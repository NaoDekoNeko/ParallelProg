{
 "cells": [
  {
   "cell_type": "code",
   "execution_count": 3,
   "metadata": {},
   "outputs": [
    {
     "name": "stderr",
     "output_type": "stream",
     "text": [
      "┌ Info: Installing Julia (4 threads) kernelspec in C:\\Users\\adfat\\AppData\\Roaming\\jupyter\\kernels\\julia-_4-threads_-1.9\n",
      "└ @ IJulia C:\\Users\\adfat\\.julia\\packages\\IJulia\\Vo51o\\deps\\kspec.jl:105\n"
     ]
    },
    {
     "data": {
      "text/plain": [
       "\"C:\\\\Users\\\\adfat\\\\AppData\\\\Roaming\\\\jupyter\\\\kernels\\\\julia-_4-threads_-1.9\""
      ]
     },
     "metadata": {},
     "output_type": "display_data"
    }
   ],
   "source": [
    "using IJulia\n",
    "installkernel(\"Julia (4 threads)\", env = Dict(\"JULIA_NUM_THREADS\" => \"4\"))"
   ]
  },
  {
   "cell_type": "code",
   "execution_count": 2,
   "metadata": {},
   "outputs": [
    {
     "name": "stdout",
     "output_type": "stream",
     "text": [
      "Hello from thread 1\n",
      "Hello from thread 2\n",
      "Hello from thread 3\n",
      "Hello from thread 3\n",
      "Hello from thread 2\n",
      "Hello from thread 4\n",
      "Hello from thread 3\n",
      "Hello from thread 3\n",
      "Hello from thread 4\n",
      "Hello from thread 4\n"
     ]
    }
   ],
   "source": [
    "using Base.Threads\n",
    "@threads for i in 1:10\n",
    "    println(\"Hello from thread $(threadid())\")\n",
    "end"
   ]
  },
  {
   "cell_type": "code",
   "execution_count": 4,
   "metadata": {},
   "outputs": [
    {
     "data": {
      "text/plain": [
       "8"
      ]
     },
     "metadata": {},
     "output_type": "display_data"
    }
   ],
   "source": [
    "Threads.nthreads()"
   ]
  },
  {
   "cell_type": "code",
   "execution_count": null,
   "metadata": {},
   "outputs": [],
   "source": []
  }
 ],
 "metadata": {
  "kernelspec": {
   "display_name": "Julia 1.9.3",
   "language": "julia",
   "name": "julia-1.9"
  },
  "language_info": {
   "file_extension": ".jl",
   "mimetype": "application/julia",
   "name": "julia",
   "version": "1.9.3"
  },
  "orig_nbformat": 4
 },
 "nbformat": 4,
 "nbformat_minor": 2
}
