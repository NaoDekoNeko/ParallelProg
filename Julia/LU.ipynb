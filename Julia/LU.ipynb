{
 "cells": [
  {
   "cell_type": "markdown",
   "metadata": {},
   "source": [
    "# Factorización LU secuencial\n",
    "\n",
    "## Algoritmo de Doolittle"
   ]
  },
  {
   "cell_type": "code",
   "execution_count": 52,
   "metadata": {},
   "outputs": [
    {
     "data": {
      "text/plain": [
       "LU"
      ]
     },
     "metadata": {},
     "output_type": "display_data"
    }
   ],
   "source": [
    "using LinearAlgebra\n",
    "function LU(A::Matrix{Float64})\n",
    "    m,n = size(A)\n",
    "    L = Matrix{Float64}(I, n, n)\n",
    "    U = copy(A)\n",
    "    for j = 1:n-1\n",
    "        for i = j+1:n\n",
    "            L[i,j] = U[i,j]/U[j,j]\n",
    "            U[i,j:end] -= L[i,j]*U[j,j:end]\n",
    "        end\n",
    "    end\n",
    "    return L,U\n",
    "end"
   ]
  },
  {
   "cell_type": "markdown",
   "metadata": {},
   "source": [
    "### Ejemplo matriz 3x3 simple"
   ]
  },
  {
   "cell_type": "code",
   "execution_count": 56,
   "metadata": {},
   "outputs": [
    {
     "data": {
      "text/plain": [
       "3×3 Matrix{Float64}:\n",
       " 1.0  0.0  0.0\n",
       " 4.0  1.0  0.0\n",
       " 7.0  2.0  1.0"
      ]
     },
     "metadata": {},
     "output_type": "display_data"
    },
    {
     "data": {
      "text/plain": [
       "3×3 Matrix{Float64}:\n",
       " 1.0   2.0   3.0\n",
       " 0.0  -3.0  -6.0\n",
       " 0.0   0.0   1.0"
      ]
     },
     "metadata": {},
     "output_type": "display_data"
    },
    {
     "data": {
      "text/plain": [
       "3×3 Matrix{Float64}:\n",
       " 1.0  2.0   3.0\n",
       " 4.0  5.0   6.0\n",
       " 7.0  8.0  10.0"
      ]
     },
     "metadata": {},
     "output_type": "display_data"
    }
   ],
   "source": [
    "A = [1.0 2.0 3.0; 4.0 5.0 6.0; 7.0 8.0 10.0]\n",
    "L, U = LU(A)\n",
    "display(L)\n",
    "display(U)\n",
    "display(L*U)"
   ]
  },
  {
   "cell_type": "markdown",
   "metadata": {},
   "source": [
    "## Factorización LU paralelo"
   ]
  },
  {
   "cell_type": "code",
   "execution_count": 1,
   "metadata": {},
   "outputs": [
    {
     "data": {
      "text/plain": [
       "parallel_LU (generic function with 1 method)"
      ]
     },
     "metadata": {},
     "output_type": "display_data"
    }
   ],
   "source": [
    "using LinearAlgebra\n",
    "using Base.Threads\n",
    "\n",
    "function parallel_LU(A::Matrix{Float64})\n",
    "    m,n = size(A)\n",
    "    L = Matrix{Float64}(I, n, n)\n",
    "    U = copy(A)\n",
    "    num_threads = Threads.nthreads()\n",
    "    threads = []\n",
    "    for j = 1:n-1\n",
    "        for i = j+1:n\n",
    "            if length(threads) < num_threads\n",
    "                push!(threads, Threads.@spawn begin\n",
    "                    L[i,j] = U[i,j]/U[j,j]\n",
    "                    U[i,j:end] -= L[i,j]*U[j,j:end]\n",
    "                end)\n",
    "            else\n",
    "                wait(threads[1])\n",
    "                popfirst!(threads)\n",
    "            end\n",
    "        end\n",
    "    end\n",
    "    for thread in threads\n",
    "        wait(thread)\n",
    "    end\n",
    "    return L,U\n",
    "end"
   ]
  },
  {
   "cell_type": "markdown",
   "metadata": {},
   "source": [
    "### Ejemplo matriz 3x3 simple"
   ]
  },
  {
   "cell_type": "code",
   "execution_count": 65,
   "metadata": {},
   "outputs": [
    {
     "data": {
      "text/plain": [
       "3×3 Matrix{Float64}:\n",
       " 1.0  0.0  0.0\n",
       " 4.0  1.0  0.0\n",
       " 7.0  1.6  1.0"
      ]
     },
     "metadata": {},
     "output_type": "display_data"
    },
    {
     "data": {
      "text/plain": [
       "3×3 Matrix{Float64}:\n",
       " 1.0    2.0    3.0\n",
       " 0.0   -3.0   -6.0\n",
       " 0.0  -14.0  -20.6"
      ]
     },
     "metadata": {},
     "output_type": "display_data"
    },
    {
     "data": {
      "text/plain": [
       "3×3 Matrix{Float64}:\n",
       " 1.0   2.0   3.0\n",
       " 4.0   5.0   6.0\n",
       " 7.0  -4.8  -9.2"
      ]
     },
     "metadata": {},
     "output_type": "display_data"
    }
   ],
   "source": [
    "A = [1.0 2.0 3.0; 4.0 5.0 6.0; 7.0 8.0 10.0]\n",
    "L, U = parallel_LU(A)\n",
    "display(L)\n",
    "display(U)\n",
    "display(L*U)"
   ]
  },
  {
   "cell_type": "markdown",
   "metadata": {},
   "source": [
    "## Factorización LU por bloques "
   ]
  },
  {
   "cell_type": "code",
   "execution_count": 7,
   "metadata": {},
   "outputs": [
    {
     "data": {
      "text/plain": [
       "impLU (generic function with 1 method)"
      ]
     },
     "metadata": {},
     "output_type": "display_data"
    }
   ],
   "source": [
    "using LinearAlgebra\n",
    "\n",
    "function is_singular(A)\n",
    "    return det(A) == 0\n",
    "end\n",
    "\n",
    "function block_LU(A)\n",
    "    n = size(A, 1)\n",
    "    if n == 1\n",
    "        return A, A, A\n",
    "    end\n",
    "\n",
    "    m = n ÷ 2\n",
    "    A11 = A[1:m, 1:m]\n",
    "    A12 = A[1:m, m+1:end]\n",
    "    A21 = A[m+1:end, 1:m]\n",
    "    A22 = A[m+1:end, m+1:end]\n",
    "\n",
    "    if is_singular(A11) || is_singular(A22)\n",
    "        error(\"La matriz es singular\")\n",
    "    end\n",
    "\n",
    "    L11, U11 = impLU(A11)\n",
    "    U12 = L11 \\ A12\n",
    "    L21 = A21 / U11\n",
    "    L22, U22 = impLU(A22 - L21*U12)\n",
    "\n",
    "    L = [L11 zeros(m, n-m); L21 L22]\n",
    "    U = [U11 U12; zeros(n-m, m) U22]\n",
    "\n",
    "    return L, U\n",
    "end\n",
    "function impLU(A::Matrix{Float64})\n",
    "    m,n = size(A)\n",
    "    L = Matrix{Float64}(I, n, n)\n",
    "    U = copy(A)\n",
    "    for j = 1:n-1\n",
    "        for i = j+1:n\n",
    "            L[i,j] = U[i,j]/U[j,j]\n",
    "            U[i,j:end] -= L[i,j]*U[j,j:end]\n",
    "        end\n",
    "    end\n",
    "    return L,U\n",
    "end"
   ]
  },
  {
   "cell_type": "markdown",
   "metadata": {},
   "source": [
    "### Pruebas"
   ]
  },
  {
   "cell_type": "code",
   "execution_count": 8,
   "metadata": {},
   "outputs": [
    {
     "data": {
      "text/plain": [
       "([1.0 0.0 … 0.0 0.0; 4.676563253466478 1.0 … 0.0 0.0; … ; 0.590046977026757 -0.2104368002745426 … 1.0 0.0; 4.781248571768607 1.2616612400521499 … 0.3836332357057343 1.0], [0.18843814628404998 0.42932330950033626 … 0.16636107792096222 0.7117202075850602; 1.1102230246251565e-16 -1.0813293747232184 … -0.021141794899128485 -2.827269698434805; … ; 0.0 0.0 … -49.822681562225846 -85.15664242962262; 0.0 0.0 … 0.0 -23.576608339536662])"
      ]
     },
     "metadata": {},
     "output_type": "display_data"
    }
   ],
   "source": [
    "A = rand(4096,4096)\n",
    "L, U = block_LU(A)"
   ]
  },
  {
   "cell_type": "markdown",
   "metadata": {},
   "source": [
    "## Factorización LU por bloques con LU paralelo"
   ]
  },
  {
   "cell_type": "code",
   "execution_count": 4,
   "metadata": {},
   "outputs": [
    {
     "data": {
      "text/plain": [
       "parallel_LU (generic function with 1 method)"
      ]
     },
     "metadata": {},
     "output_type": "display_data"
    }
   ],
   "source": [
    "using Base.Threads\n",
    "using LinearAlgebra\n",
    "\n",
    "function is_singular(A)\n",
    "    return det(A) == 0\n",
    "end\n",
    "\n",
    "function pseudo_parallel_LU_block_LU(A)\n",
    "    n = size(A, 1)\n",
    "    if n == 1\n",
    "        return A, A, A\n",
    "    end\n",
    "\n",
    "    m = n ÷ 2\n",
    "    A11 = A[1:m, 1:m]\n",
    "    A12 = A[1:m, m+1:end]\n",
    "    A21 = A[m+1:end, 1:m]\n",
    "    A22 = A[m+1:end, m+1:end]\n",
    "\n",
    "    if is_singular(A11) || is_singular(A22)\n",
    "        error(\"La matriz es singular\")\n",
    "    end\n",
    "\n",
    "    L11, U11 = parallel_LU(A11)\n",
    "    U12 = L11 \\ A12\n",
    "    L21 = A21 / U11\n",
    "    L22, U22 = parallel_LU(A22 - L21*U12)\n",
    "\n",
    "    L = [L11 zeros(m, n-m); L21 L22]\n",
    "    U = [U11 U12; zeros(n-m, m) U22]\n",
    "\n",
    "    return L, U\n",
    "end\n",
    "\n",
    "function parallel_LU(A::Matrix{Float64})\n",
    "    m,n = size(A)\n",
    "    L = Matrix{Float64}(I, n, n)\n",
    "    U = copy(A)\n",
    "    num_threads = Threads.nthreads()\n",
    "    threads = []\n",
    "    for j = 1:n-1\n",
    "        for i = j+1:n\n",
    "            if length(threads) < num_threads\n",
    "                push!(threads, Threads.@spawn begin\n",
    "                    L[i,j] = U[i,j]/U[j,j]\n",
    "                    U[i,j:end] -= L[i,j]*U[j,j:end]\n",
    "                end)\n",
    "            else\n",
    "                wait(threads[1])\n",
    "                popfirst!(threads)\n",
    "            end\n",
    "        end\n",
    "    end\n",
    "    for thread in threads\n",
    "        wait(thread)\n",
    "    end\n",
    "    return L,U\n",
    "end"
   ]
  },
  {
   "cell_type": "markdown",
   "metadata": {},
   "source": [
    "### Pruebas"
   ]
  },
  {
   "cell_type": "code",
   "execution_count": 5,
   "metadata": {},
   "outputs": [
    {
     "data": {
      "text/plain": [
       "([1.0 0.0 … 0.0 0.0; 0.24873496849292703 1.0 … 0.0 0.0; … ; -8.91709715334129 -12.464606627411785 … 1.0 0.0; -1.848266003868957 -3.8976563469118632 … -0.8134867399098984 1.0], [0.9749886829104764 0.8935188148175884 … 0.8466022479749088 0.3364897449968206; 0.0 0.3885563330314892 … 0.598434529602937 0.29014922503996354; … ; 0.0 0.0 … -4052.2365091379615 -7012.950644595873; 0.0 0.0 … -3211.977320295415 -5559.952399560551])"
      ]
     },
     "metadata": {},
     "output_type": "display_data"
    }
   ],
   "source": [
    "A = rand(4096,4096)\n",
    "L, U = pseudo_parallel_LU_block_LU(A)"
   ]
  },
  {
   "cell_type": "code",
   "execution_count": 1,
   "metadata": {},
   "outputs": [
    {
     "name": "stdout",
     "output_type": "stream",
     "text": [
      "4"
     ]
    }
   ],
   "source": [
    "print(Threads.nthreads())"
   ]
  },
  {
   "cell_type": "code",
   "execution_count": null,
   "metadata": {},
   "outputs": [],
   "source": []
  }
 ],
 "metadata": {
  "kernelspec": {
   "display_name": "Julia 1.9.3",
   "language": "julia",
   "name": "julia-1.9"
  },
  "language_info": {
   "file_extension": ".jl",
   "mimetype": "application/julia",
   "name": "julia",
   "version": "1.9.3"
  },
  "orig_nbformat": 4
 },
 "nbformat": 4,
 "nbformat_minor": 2
}
