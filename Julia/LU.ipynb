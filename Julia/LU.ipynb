{
 "cells": [
  {
   "cell_type": "markdown",
   "metadata": {},
   "source": [
    "# Factorización LU secuencial\n",
    "\n",
    "## Algoritmo de Doolittle"
   ]
  },
  {
   "cell_type": "code",
   "execution_count": 49,
   "metadata": {},
   "outputs": [
    {
     "data": {
      "text/plain": [
       "LU_Doolittle (generic function with 1 method)"
      ]
     },
     "metadata": {},
     "output_type": "display_data"
    }
   ],
   "source": [
    "using LinearAlgebra\n",
    "function LU_Doolittle(A::Matrix{Float64})\n",
    "    m,n = size(A)\n",
    "    L = Matrix{Float64}(I, n, n)\n",
    "    U = copy(A)\n",
    "    for j = 1:n-1\n",
    "        for i = j+1:n\n",
    "            L[i,j] = U[i,j]/U[j,j]\n",
    "            U[i,j:end] -= L[i,j]*U[j,j:end]\n",
    "        end\n",
    "    end\n",
    "    return L,U\n",
    "end"
   ]
  },
  {
   "cell_type": "markdown",
   "metadata": {},
   "source": [
    "### Ejemplo matriz 3x3 simple"
   ]
  },
  {
   "cell_type": "code",
   "execution_count": 46,
   "metadata": {},
   "outputs": [
    {
     "data": {
      "text/plain": [
       "3×3 Matrix{Float64}:\n",
       " 1.0  0.0  0.0\n",
       " 4.0  1.0  0.0\n",
       " 7.0  2.0  1.0"
      ]
     },
     "metadata": {},
     "output_type": "display_data"
    },
    {
     "data": {
      "text/plain": [
       "3×3 Matrix{Float64}:\n",
       " 1.0   2.0   3.0\n",
       " 0.0  -3.0  -6.0\n",
       " 0.0   0.0   1.0"
      ]
     },
     "metadata": {},
     "output_type": "display_data"
    },
    {
     "data": {
      "text/plain": [
       "3×3 Matrix{Float64}:\n",
       " 1.0  2.0   3.0\n",
       " 4.0  5.0   6.0\n",
       " 7.0  8.0  10.0"
      ]
     },
     "metadata": {},
     "output_type": "display_data"
    }
   ],
   "source": [
    "A = [1.0 2.0 3.0; 4.0 5.0 6.0; 7.0 8.0 10.0]\n",
    "L, U = LU_Doolittle(A)\n",
    "display(L)\n",
    "display(U)\n",
    "display(L*U)"
   ]
  },
  {
   "cell_type": "markdown",
   "metadata": {},
   "source": [
    "## Algoritmo de Crout"
   ]
  },
  {
   "cell_type": "code",
   "execution_count": 32,
   "metadata": {},
   "outputs": [
    {
     "data": {
      "text/plain": [
       "LU_Crout (generic function with 1 method)"
      ]
     },
     "metadata": {},
     "output_type": "display_data"
    }
   ],
   "source": [
    "using LinearAlgebra\n",
    "function LU_Crout(A::Matrix{Float64})\n",
    "    m,n = size(A)\n",
    "    U = Matrix{Float64}(I, n, n)\n",
    "    L = copy(A)\n",
    "    for i = 1:n\n",
    "        for j = i+1:n\n",
    "            U[i,j] = L[i,j]/L[i,i]\n",
    "            L[i:end,j] = L[i:end,j] - U[i,j]*L[i:end,i]\n",
    "        end\n",
    "    end\n",
    "    return L,U\n",
    "end"
   ]
  },
  {
   "cell_type": "markdown",
   "metadata": {},
   "source": [
    "### Ejemplo"
   ]
  },
  {
   "cell_type": "code",
   "execution_count": 33,
   "metadata": {},
   "outputs": [
    {
     "data": {
      "text/plain": [
       "3×3 Matrix{Float64}:\n",
       "   4.0  0.0  0.0\n",
       "  12.0  1.0  0.0\n",
       " -16.0  5.0  9.0"
      ]
     },
     "metadata": {},
     "output_type": "display_data"
    },
    {
     "data": {
      "text/plain": [
       "3×3 Matrix{Float64}:\n",
       " 1.0  3.0  -4.0\n",
       " 0.0  1.0   5.0\n",
       " 0.0  0.0   1.0"
      ]
     },
     "metadata": {},
     "output_type": "display_data"
    },
    {
     "data": {
      "text/plain": [
       "3×3 Matrix{Float64}:\n",
       "   4.0   12.0  -16.0\n",
       "  12.0   37.0  -43.0\n",
       " -16.0  -43.0   98.0"
      ]
     },
     "metadata": {},
     "output_type": "display_data"
    }
   ],
   "source": [
    "A = [4.0 12.0 -16.0; 12.0 37.0 -43.0; -16.0 -43.0 98.0]\n",
    "L, U = LU_Crout(A)\n",
    "display(L)\n",
    "display(U)\n",
    "display(L*U)"
   ]
  },
  {
   "cell_type": "markdown",
   "metadata": {},
   "source": [
    "## PALU"
   ]
  },
  {
   "cell_type": "code",
   "execution_count": 91,
   "metadata": {},
   "outputs": [
    {
     "data": {
      "text/plain": [
       "PALU (generic function with 1 method)"
      ]
     },
     "metadata": {},
     "output_type": "display_data"
    }
   ],
   "source": [
    "using LinearAlgebra\n",
    "\n",
    "function PALU(A)\n",
    "    n = size(A,1)\n",
    "    P = Matrix{Float64}(I, n, n)\n",
    "    L = Matrix{Float64}(I, n, n)\n",
    "    U = copy(A)\n",
    "\n",
    "    for k = 1:n-1\n",
    "        # Encuentra el índice del valor máximo en la columna k\n",
    "        maxval, maxind = findmax(abs.(U[k:end,k]))\n",
    "        maxind += k - 1\n",
    "\n",
    "        # Intercambia las filas k y maxind en U y P\n",
    "        U[[k, maxind],:] = U[[maxind, k],:]\n",
    "        P[[k, maxind],:] = P[[maxind, k],:]\n",
    "\n",
    "        for j = k+1:n\n",
    "            L[j,k] = U[j,k]/U[k,k]\n",
    "            U[j,k:n] -= L[j,k]*U[k,k:n]\n",
    "        end\n",
    "    end\n",
    "\n",
    "    return P, L, U\n",
    "end"
   ]
  },
  {
   "cell_type": "markdown",
   "metadata": {},
   "source": [
    "### Ejemplo"
   ]
  },
  {
   "cell_type": "code",
   "execution_count": 92,
   "metadata": {},
   "outputs": [
    {
     "data": {
      "text/plain": [
       "3×3 Matrix{Float64}:\n",
       "  1.0   0.0       0.0\n",
       " -0.75  1.0       0.0\n",
       " -0.25  0.263158  1.0"
      ]
     },
     "metadata": {},
     "output_type": "display_data"
    },
    {
     "data": {
      "text/plain": [
       "3×3 Matrix{Float64}:\n",
       " -16.0  -43.0   98.0\n",
       "   0.0    4.75  30.5\n",
       "   0.0    0.0    0.473684"
      ]
     },
     "metadata": {},
     "output_type": "display_data"
    },
    {
     "data": {
      "text/plain": [
       "3×3 Matrix{Float64}:\n",
       " -16.0  -43.0   98.0\n",
       "  12.0   37.0  -43.0\n",
       "   4.0   12.0  -16.0"
      ]
     },
     "metadata": {},
     "output_type": "display_data"
    },
    {
     "data": {
      "text/plain": [
       "3×3 Matrix{Float64}:\n",
       " -16.0  -43.0   98.0\n",
       "  12.0   37.0  -43.0\n",
       "   4.0   12.0  -16.0"
      ]
     },
     "metadata": {},
     "output_type": "display_data"
    }
   ],
   "source": [
    "A = [4.0 12.0 -16.0; 12.0 37.0 -43.0; -16.0 -43.0 98.0]\n",
    "P, L, U = PALU(A)\n",
    "display(L)\n",
    "display(U)\n",
    "\n",
    "display(P*A)\n",
    "display(L*U)"
   ]
  },
  {
   "cell_type": "markdown",
   "metadata": {},
   "source": [
    "# Factorización LU paralelo"
   ]
  },
  {
   "cell_type": "markdown",
   "metadata": {},
   "source": [
    "## Doolittle\n"
   ]
  },
  {
   "cell_type": "code",
   "execution_count": 34,
   "metadata": {},
   "outputs": [
    {
     "data": {
      "text/plain": [
       "parallel_LU_Doolittle (generic function with 1 method)"
      ]
     },
     "metadata": {},
     "output_type": "display_data"
    }
   ],
   "source": [
    "using LinearAlgebra\n",
    "using Base.Threads\n",
    "\n",
    "function parallel_LU_Doolittle(A::Matrix{Float64})\n",
    "    m,n = size(A)\n",
    "    L = Matrix{Float64}(I, n, n)\n",
    "    U = copy(A)\n",
    "    num_threads = Threads.nthreads()\n",
    "    threads = []\n",
    "    for j = 1:n-1\n",
    "        for i = j+1:n\n",
    "            if length(threads) < num_threads\n",
    "                push!(threads, Threads.@spawn begin\n",
    "                    L[i,j] = U[i,j]/U[j,j]\n",
    "                    U[i,j:end] -= L[i,j]*U[j,j:end]\n",
    "                end)\n",
    "            else\n",
    "                wait(threads[1])\n",
    "                popfirst!(threads)\n",
    "            end\n",
    "        end\n",
    "    end\n",
    "    for thread in threads\n",
    "        wait(thread)\n",
    "    end\n",
    "    return L,U\n",
    "end"
   ]
  },
  {
   "cell_type": "markdown",
   "metadata": {},
   "source": [
    "### Ejemplo matriz 3x3 simple"
   ]
  },
  {
   "cell_type": "code",
   "execution_count": 41,
   "metadata": {},
   "outputs": [
    {
     "data": {
      "text/plain": [
       "3×3 Matrix{Float64}:\n",
       " 1.0   0.0      0.0\n",
       " 4.0   1.0      0.0\n",
       " 7.0  -2.66667  1.0"
      ]
     },
     "metadata": {},
     "output_type": "display_data"
    },
    {
     "data": {
      "text/plain": [
       "3×3 Matrix{Float64}:\n",
       " 1.0    2.0    3.0\n",
       " 0.0   -3.0   -6.0\n",
       " 0.0  -14.0  -27.0"
      ]
     },
     "metadata": {},
     "output_type": "display_data"
    },
    {
     "data": {
      "text/plain": [
       "3×3 Matrix{Float64}:\n",
       " 1.0  2.0   3.0\n",
       " 4.0  5.0   6.0\n",
       " 7.0  8.0  10.0"
      ]
     },
     "metadata": {},
     "output_type": "display_data"
    }
   ],
   "source": [
    "A = [1.0 2.0 3.0; 4.0 5.0 6.0; 7.0 8.0 10.0]\n",
    "L, U = parallel_LU_Doolittle(A)\n",
    "display(L)\n",
    "display(U)\n",
    "display(L*U)"
   ]
  },
  {
   "cell_type": "markdown",
   "metadata": {},
   "source": [
    "## Crout"
   ]
  },
  {
   "cell_type": "code",
   "execution_count": 42,
   "metadata": {},
   "outputs": [
    {
     "data": {
      "text/plain": [
       "parallel_LU_Crout (generic function with 1 method)"
      ]
     },
     "metadata": {},
     "output_type": "display_data"
    }
   ],
   "source": [
    "using LinearAlgebra\n",
    "using Base.Threads\n",
    "\n",
    "function parallel_LU_Crout(A::Matrix{Float64})\n",
    "    m,n = size(A)\n",
    "    U = Matrix{Float64}(I, n, n)\n",
    "    L = copy(A)\n",
    "    num_threads = Threads.nthreads()\n",
    "    threads = []\n",
    "    for i = 1:n-1\n",
    "        for j = i+1:n\n",
    "            if length(threads) < num_threads\n",
    "                push!(threads, Threads.@spawn begin\n",
    "                    U[i,j] = L[i,j]/L[i,i]\n",
    "                    L[i:end,j] = L[i:end,j] - U[i,j]*L[i:end,i]\n",
    "                end)\n",
    "            else\n",
    "                wait(threads[1])\n",
    "                popfirst!(threads)\n",
    "            end\n",
    "        end\n",
    "    end\n",
    "    for thread in threads\n",
    "        wait(thread)\n",
    "    end\n",
    "    return L,U\n",
    "end"
   ]
  },
  {
   "cell_type": "markdown",
   "metadata": {},
   "source": [
    "### Ejemplo sencillo 3x3"
   ]
  },
  {
   "cell_type": "code",
   "execution_count": 37,
   "metadata": {},
   "outputs": [
    {
     "data": {
      "text/plain": [
       "3×3 Matrix{Float64}:\n",
       " 1.0   0.0   0.0\n",
       " 4.0  -3.0   0.0\n",
       " 7.0  -6.0  -1.4"
      ]
     },
     "metadata": {},
     "output_type": "display_data"
    },
    {
     "data": {
      "text/plain": [
       "3×3 Matrix{Float64}:\n",
       " 1.0  2.0   3.0\n",
       " 0.0  1.0  -1.2\n",
       " 0.0  0.0   1.0"
      ]
     },
     "metadata": {},
     "output_type": "display_data"
    },
    {
     "data": {
      "text/plain": [
       "3×3 Matrix{Float64}:\n",
       " 1.0  2.0   3.0\n",
       " 4.0  5.0  15.6\n",
       " 7.0  8.0  26.8"
      ]
     },
     "metadata": {},
     "output_type": "display_data"
    }
   ],
   "source": [
    "A = [1.0 2.0 3.0; 4.0 5.0 6.0; 7.0 8.0 10.0]\n",
    "L, U = parallel_LU_Crout(A)\n",
    "display(L)\n",
    "display(U)\n",
    "display(L*U)"
   ]
  },
  {
   "cell_type": "markdown",
   "metadata": {},
   "source": [
    "# Factorización LU por bloques "
   ]
  },
  {
   "cell_type": "markdown",
   "metadata": {},
   "source": [
    "## Doolittle"
   ]
  },
  {
   "cell_type": "code",
   "execution_count": 52,
   "metadata": {},
   "outputs": [
    {
     "data": {
      "text/plain": [
       "block_LU_Doolittle (generic function with 1 method)"
      ]
     },
     "metadata": {},
     "output_type": "display_data"
    }
   ],
   "source": [
    "using LinearAlgebra\n",
    "\n",
    "function is_singular(A)\n",
    "    return det(A) == 0\n",
    "end\n",
    "\n",
    "function block_LU_Doolittle(A)\n",
    "    n = size(A, 1)\n",
    "    if n == 1\n",
    "        return A, A, A\n",
    "    end\n",
    "\n",
    "    m = n ÷ 2\n",
    "    A11 = A[1:m, 1:m]\n",
    "    A12 = A[1:m, m+1:end]\n",
    "    A21 = A[m+1:end, 1:m]\n",
    "    A22 = A[m+1:end, m+1:end]\n",
    "\n",
    "    if is_singular(A11) || is_singular(A22)\n",
    "        error(\"La matriz es singular\")\n",
    "    end\n",
    "\n",
    "    L11, U11 = LU_Doolittle(A11)\n",
    "    U12 = L11 \\ A12\n",
    "    L21 = A21 / U11\n",
    "    L22, U22 = LU_Doolittle(A22 - L21*U12)\n",
    "\n",
    "    L = [L11 zeros(m, n-m); L21 L22]\n",
    "    U = [U11 U12; zeros(n-m, m) U22]\n",
    "\n",
    "    return L, U\n",
    "end"
   ]
  },
  {
   "cell_type": "markdown",
   "metadata": {},
   "source": [
    "### Pruebas"
   ]
  },
  {
   "cell_type": "code",
   "execution_count": 54,
   "metadata": {},
   "outputs": [
    {
     "data": {
      "text/plain": [
       "10×10 Matrix{Float64}:\n",
       " 1.0         0.0         0.0        0.0       …   0.0        0.0       0.0\n",
       " 1.27008     1.0         0.0        0.0           0.0        0.0       0.0\n",
       " 1.15972     0.272727    1.0        0.0           0.0        0.0       0.0\n",
       " 0.207019   -0.0726137   1.71374    1.0           0.0        0.0       0.0\n",
       " 0.784952   -0.151583    2.24811    0.731533      0.0        0.0       0.0\n",
       " 0.279962    0.14247     0.697592   0.400667  …   0.0        0.0       0.0\n",
       " 0.712069    1.99265    -3.05642   -0.993996      0.0        0.0       0.0\n",
       " 0.0869193   0.617841    0.88225    0.739588      1.0        0.0       0.0\n",
       " 0.292839    1.16701    -1.65242   -0.345392     -0.339624   1.0       0.0\n",
       " 0.64728     0.150725    1.06299    0.507226     -0.667365  -0.329313  1.0"
      ]
     },
     "metadata": {},
     "output_type": "display_data"
    },
    {
     "data": {
      "text/plain": [
       "10×10 Matrix{Float64}:\n",
       "  0.708457     0.167625  0.224108  …   0.561845    0.247075    0.0182439\n",
       " -1.11022e-16  0.417013  0.518452     -0.291677    0.118201    0.441063\n",
       "  0.0          0.0       0.385658      0.0990851   0.608821    0.602141\n",
       "  0.0          0.0       0.0           0.206955   -0.637261   -0.731066\n",
       "  0.0          0.0       0.0          -0.474726   -0.264278   -0.527257\n",
       "  0.0          0.0       0.0       …   0.471052   -0.232717   -0.0461401\n",
       "  0.0          0.0       0.0           1.9368     -0.0593531  -0.1737\n",
       "  0.0          0.0       0.0           1.57539    -0.24736     0.577885\n",
       "  0.0          0.0       0.0           0.0         1.06798    -0.199146\n",
       "  0.0          0.0       0.0           0.0         0.0         0.320097"
      ]
     },
     "metadata": {},
     "output_type": "display_data"
    }
   ],
   "source": [
    "A = rand(10,10)\n",
    "L, U = block_LU_Doolittle(A)\n",
    "\n",
    "display(L)\n",
    "display(U)"
   ]
  },
  {
   "cell_type": "markdown",
   "metadata": {},
   "source": [
    "# Factorización LU por bloques con LU paralelo"
   ]
  },
  {
   "cell_type": "markdown",
   "metadata": {},
   "source": [
    "## Doolittle"
   ]
  },
  {
   "cell_type": "code",
   "execution_count": 87,
   "metadata": {},
   "outputs": [
    {
     "data": {
      "text/plain": [
       "pseudo_parallel_LU_block_LU_Doolittle (generic function with 1 method)"
      ]
     },
     "metadata": {},
     "output_type": "display_data"
    }
   ],
   "source": [
    "using Base.Threads\n",
    "using LinearAlgebra\n",
    "\n",
    "function is_singular(A)\n",
    "    return det(A) == 0\n",
    "end\n",
    "\n",
    "function pseudo_parallel_LU_block_LU_Doolittle(A)\n",
    "    n = size(A, 1)\n",
    "    if n == 1\n",
    "        return A, A, A\n",
    "    end\n",
    "\n",
    "    m = n ÷ 2\n",
    "    A11 = A[1:m, 1:m]\n",
    "    A12 = A[1:m, m+1:end]\n",
    "    A21 = A[m+1:end, 1:m]\n",
    "    A22 = A[m+1:end, m+1:end]\n",
    "\n",
    "    if is_singular(A11) || is_singular(A22)\n",
    "        error(\"La matriz es singular\")\n",
    "    end\n",
    "\n",
    "    L11, U11 = parallel_LU_Doolittle(A11)\n",
    "    U12 = L11 \\ A12\n",
    "    L21 = A21 / U11\n",
    "    L22, U22 = parallel_LU_Doolittle(A22 - L21*U12)\n",
    "\n",
    "    L = [L11 zeros(m, n-m); L21 L22]\n",
    "    U = [U11 U12; zeros(n-m, m) U22]\n",
    "\n",
    "    return L, U\n",
    "end"
   ]
  },
  {
   "cell_type": "markdown",
   "metadata": {},
   "source": [
    "### Pruebas"
   ]
  },
  {
   "cell_type": "code",
   "execution_count": 88,
   "metadata": {},
   "outputs": [
    {
     "data": {
      "text/plain": [
       "10×10 Matrix{Float64}:\n",
       " 1.0        0.0       0.0      …   0.0       0.0       0.0       0.0\n",
       " 1.08371    1.0       0.0          0.0       0.0       0.0       0.0\n",
       " 0.105315   0.0       1.0          0.0       0.0       0.0       0.0\n",
       " 0.81004   17.1421   34.4368       0.0       0.0       0.0       0.0\n",
       " 0.072129   0.0       0.0          0.0       0.0       0.0       0.0\n",
       " 1.19638    4.48589   5.96309  …   0.0       0.0       0.0       0.0\n",
       " 0.167628   1.56894   6.42201      1.0       0.0       0.0       0.0\n",
       " 0.725697   6.2327   12.8702       0.0       1.0       0.0       0.0\n",
       " 1.20819    8.70299  13.5023      -0.306635  0.529041  1.0       0.0\n",
       " 0.664066   6.54464  13.2158       0.0       0.0       0.196421  1.0"
      ]
     },
     "metadata": {},
     "output_type": "display_data"
    },
    {
     "data": {
      "text/plain": [
       "10×10 Matrix{Float64}:\n",
       " 0.697912     0.0452234   0.828605  …    0.145046     0.569717    0.25816\n",
       " 1.11022e-16  0.0382121  -0.467496       0.678331    -0.535251    0.166349\n",
       " 0.0          0.0308118   0.24168        0.0475272    0.717635    0.296168\n",
       " 0.0          0.0         0.0          -13.0627     -15.8726    -13.0373\n",
       " 0.0          0.530585   -0.011076      -2.82527     -3.30824    -2.18387\n",
       " 0.0          0.0         0.0       …   -0.509844     0.989458    0.122318\n",
       " 0.0          0.0         0.0            0.0396188   -2.26301    -0.596636\n",
       " 0.0          0.0         0.0           -0.534215    -0.463856   -0.277762\n",
       " 0.0          0.0         0.0            0.0          1.43183     0.299406\n",
       " 0.0          0.0         0.0            0.25259      0.0         0.434033"
      ]
     },
     "metadata": {},
     "output_type": "display_data"
    }
   ],
   "source": [
    "A = rand(10,10)\n",
    "L, U = pseudo_parallel_LU_block_LU_Doolittle(A)\n",
    "\n",
    "display(L)\n",
    "display(U)"
   ]
  },
  {
   "cell_type": "code",
   "execution_count": null,
   "metadata": {},
   "outputs": [],
   "source": []
  }
 ],
 "metadata": {
  "kernelspec": {
   "display_name": "Julia 1.9.3",
   "language": "julia",
   "name": "julia-1.9"
  },
  "language_info": {
   "file_extension": ".jl",
   "mimetype": "application/julia",
   "name": "julia",
   "version": "1.9.3"
  },
  "orig_nbformat": 4
 },
 "nbformat": 4,
 "nbformat_minor": 2
}
