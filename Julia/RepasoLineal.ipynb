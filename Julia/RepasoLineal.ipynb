{
 "cells": [
  {
   "cell_type": "code",
   "execution_count": 3,
   "metadata": {},
   "outputs": [
    {
     "data": {
      "text/plain": [
       "GaussJordan (generic function with 2 methods)"
      ]
     },
     "metadata": {},
     "output_type": "display_data"
    }
   ],
   "source": [
    "function GaussJordan(A::Matrix{Float64}, B::Vector{Float64})\n",
    "    m,n = size(A)\n",
    "    X = zeros(n)\n",
    "    for j = 1:n\n",
    "        for i = 1:n\n",
    "            E = -1*(A[i,j]/A[j,j])\n",
    "            if i!=j\n",
    "               A[i,:] = A[i,:] + E*A[j,:]\n",
    "               B[i]   = B[i]   + E*B[j]\n",
    "            end\n",
    "        end\n",
    "    end\n",
    "    for j = 1:n\n",
    "        X[j] = B[j]/A[j,j]\n",
    "    end\n",
    "    return X,A,B\n",
    " end"
   ]
  },
  {
   "cell_type": "code",
   "execution_count": 6,
   "metadata": {},
   "outputs": [
    {
     "name": "stdout",
     "output_type": "stream",
     "text": [
      "[1.0 0.0 0.0; 0.0 -3.0 0.0; 0.0 0.0 1.0]\n"
     ]
    }
   ],
   "source": [
    "A = [1.0 2.0 3.0; 4.0 5.0 6.0; 0.0 0.0 1.0]\n",
    "B = [1.0; 2.0; 3.0]\n",
    "\n",
    "X, A, B = GaussJordan(A, B)\n",
    "\n",
    "println(A)"
   ]
  },
  {
   "cell_type": "code",
   "execution_count": 11,
   "metadata": {},
   "outputs": [
    {
     "data": {
      "text/plain": [
       "dot (generic function with 1 method)"
      ]
     },
     "metadata": {},
     "output_type": "display_data"
    }
   ],
   "source": [
    "function Gauss(A::Matrix{Float64}, B::Vector{Float64})\n",
    "    m,n = size(A)\n",
    "    X = zeros(n)\n",
    "    for j = 1:n-1\n",
    "        for i = j+1:n\n",
    "            E = -1*(A[i,j]/A[j,j])\n",
    "            A[i,j:end] = A[i,j:end] + E*A[j,j:end]\n",
    "            B[i] = B[i] + E*B[j]\n",
    "        end\n",
    "    end\n",
    "    for j = n:-1:1\n",
    "        X[j] = (B[j] - dot(A[j,j+1:end], X[j+1:end]))/A[j,j]\n",
    "    end\n",
    "    return X,A,B\n",
    "end\n",
    "\n",
    "function dot(x::Vector{Float64}, y::Vector{Float64})\n",
    "    n = length(x)\n",
    "    sum = 0.0\n",
    "    for i = 1:n\n",
    "        sum += x[i]*y[i]\n",
    "    end\n",
    "    return sum\n",
    "end"
   ]
  },
  {
   "cell_type": "code",
   "execution_count": 12,
   "metadata": {},
   "outputs": [
    {
     "name": "stdout",
     "output_type": "stream",
     "text": [
      "[1.0 2.0 3.0; 0.0 -3.0 -6.0; 0.0 0.0 1.0]\n"
     ]
    }
   ],
   "source": [
    "A = [1.0 2.0 3.0; 4.0 5.0 6.0; 0.0 0.0 1.0]\n",
    "B = [1.0; 2.0; 3.0]\n",
    "\n",
    "X, A, B = Gauss(A, B)\n",
    "\n",
    "println(A)"
   ]
  },
  {
   "cell_type": "code",
   "execution_count": 31,
   "metadata": {},
   "outputs": [
    {
     "data": {
      "text/plain": [
       "LU (generic function with 2 methods)"
      ]
     },
     "metadata": {},
     "output_type": "display_data"
    }
   ],
   "source": [
    "function LU(A::Matrix{Float64})\n",
    "    m,n = size(A)\n",
    "    L = identity(n)\n",
    "    U = copy(A)\n",
    "    for j = 1:n-1\n",
    "        for i = j+1:n\n",
    "            E = -1*(U[i,j]/U[j,j])\n",
    "            U[i,j:end] = U[i,j:end] + E*U[j,j:end]\n",
    "            L[i,j:end] = L[i,j:end] - E*L[j,j:end]\n",
    "        end\n",
    "    end\n",
    "    return L,U\n",
    "end"
   ]
  },
  {
   "cell_type": "code",
   "execution_count": 32,
   "metadata": {},
   "outputs": [
    {
     "ename": "MethodError",
     "evalue": "MethodError: no method matching getindex(::Int64, ::Int64, ::UnitRange{Int64})\n\nClosest candidates are:\n  getindex(::Number, ::Integer)\n   @ Base number.jl:96\n  getindex(::Number, !Matched::Integer...)\n   @ Base number.jl:101\n  getindex(::Number)\n   @ Base number.jl:95\n  ...\n",
     "output_type": "error",
     "traceback": [
      "MethodError: no method matching getindex(::Int64, ::Int64, ::UnitRange{Int64})\n",
      "\n",
      "Closest candidates are:\n",
      "  getindex(::Number, ::Integer)\n",
      "   @ Base number.jl:96\n",
      "  getindex(::Number, !Matched::Integer...)\n",
      "   @ Base number.jl:101\n",
      "  getindex(::Number)\n",
      "   @ Base number.jl:95\n",
      "  ...\n",
      "\n",
      "\n",
      "Stacktrace:\n",
      " [1] LU(A::Matrix{Float64})\n",
      "   @ Main c:\\Users\\adfat\\OneDrive\\Documentos\\JupyterNB\\Julia\\RepasoLineal.ipynb:9\n",
      " [2] top-level scope\n",
      "   @ c:\\Users\\adfat\\OneDrive\\Documentos\\JupyterNB\\Julia\\RepasoLineal.ipynb:2"
     ]
    }
   ],
   "source": [
    "A = [1.0 2.0 3.0; 4.0 5.0 6.0; 7.0 8.0 9.0]\n",
    "L, U = LU(Float64.(A))\n",
    "println(L)\n",
    "println(U)"
   ]
  },
  {
   "cell_type": "code",
   "execution_count": 26,
   "metadata": {},
   "outputs": [
    {
     "ename": "MethodError",
     "evalue": "MethodError: no method matching methodswith(::typeof(LU))\n\nClosest candidates are:\n  methodswith(!Matched::Type; supertypes)\n   @ InteractiveUtils C:\\Users\\adfat\\.julia\\juliaup\\julia-1.9.3+0.x64.w64.mingw32\\share\\julia\\stdlib\\v1.9\\InteractiveUtils\\src\\InteractiveUtils.jl:235\n  methodswith(!Matched::Type, !Matched::Union{Function, Type})\n   @ InteractiveUtils C:\\Users\\adfat\\.julia\\juliaup\\julia-1.9.3+0.x64.w64.mingw32\\share\\julia\\stdlib\\v1.9\\InteractiveUtils\\src\\InteractiveUtils.jl:203\n  methodswith(!Matched::Type, !Matched::Union{Function, Type}, !Matched::Any; supertypes)\n   @ InteractiveUtils C:\\Users\\adfat\\.julia\\juliaup\\julia-1.9.3+0.x64.w64.mingw32\\share\\julia\\stdlib\\v1.9\\InteractiveUtils\\src\\InteractiveUtils.jl:203\n  ...\n",
     "output_type": "error",
     "traceback": [
      "MethodError: no method matching methodswith(::typeof(LU))\n",
      "\n",
      "Closest candidates are:\n",
      "  methodswith(!Matched::Type; supertypes)\n",
      "   @ InteractiveUtils C:\\Users\\adfat\\.julia\\juliaup\\julia-1.9.3+0.x64.w64.mingw32\\share\\julia\\stdlib\\v1.9\\InteractiveUtils\\src\\InteractiveUtils.jl:235\n",
      "  methodswith(!Matched::Type, !Matched::Union{Function, Type})\n",
      "   @ InteractiveUtils C:\\Users\\adfat\\.julia\\juliaup\\julia-1.9.3+0.x64.w64.mingw32\\share\\julia\\stdlib\\v1.9\\InteractiveUtils\\src\\InteractiveUtils.jl:203\n",
      "  methodswith(!Matched::Type, !Matched::Union{Function, Type}, !Matched::Any; supertypes)\n",
      "   @ InteractiveUtils C:\\Users\\adfat\\.julia\\juliaup\\julia-1.9.3+0.x64.w64.mingw32\\share\\julia\\stdlib\\v1.9\\InteractiveUtils\\src\\InteractiveUtils.jl:203\n",
      "  ...\n",
      "\n",
      "\n",
      "Stacktrace:\n",
      " [1] top-level scope\n",
      "   @ c:\\Users\\adfat\\OneDrive\\Documentos\\JupyterNB\\Julia\\RepasoLineal.ipynb:1"
     ]
    }
   ],
   "source": [
    "methodswith(LU)"
   ]
  },
  {
   "cell_type": "code",
   "execution_count": null,
   "metadata": {},
   "outputs": [],
   "source": []
  }
 ],
 "metadata": {
  "kernelspec": {
   "display_name": "Julia 1.9.3",
   "language": "julia",
   "name": "julia-1.9"
  },
  "language_info": {
   "file_extension": ".jl",
   "mimetype": "application/julia",
   "name": "julia",
   "version": "1.9.3"
  },
  "orig_nbformat": 4
 },
 "nbformat": 4,
 "nbformat_minor": 2
}
